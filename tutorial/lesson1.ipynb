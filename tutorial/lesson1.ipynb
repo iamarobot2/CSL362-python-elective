{
 "cells": [
  {
   "cell_type": "code",
   "execution_count": 29,
   "metadata": {},
   "outputs": [
    {
     "name": "stdout",
     "output_type": "stream",
     "text": [
      "Mm ,sus !\n"
     ]
    }
   ],
   "source": [
    "#ternary operator\n",
    "age = int(input(\"Enter your Age.\\n\"))\n",
    "print(\"Mm ,sus !\") if age<18 else print(\"You are old enough to vibe.\")"
   ]
  },
  {
   "cell_type": "code",
   "execution_count": 30,
   "metadata": {},
   "outputs": [
    {
     "name": "stdout",
     "output_type": "stream",
     "text": [
      "Avin Joshy\n",
      "Phone numer : 8137954129\n"
     ]
    }
   ],
   "source": [
    "# data types\n",
    "\n",
    "# string\n",
    "first = \"Avin\"\n",
    "last = \"Joshy\"\n",
    "# integer\n",
    "contact = 8137954129\n",
    "print(first + \" \" + last)\n",
    "# type casting\n",
    "print(\"Phone numer : \"+str(contact))\n",
    "\n"
   ]
  },
  {
   "cell_type": "code",
   "execution_count": 31,
   "metadata": {},
   "outputs": [
    {
     "name": "stdout",
     "output_type": "stream",
     "text": [
      " \n",
      "Any Queries?\n",
      "Submit Here.\n",
      "\n",
      "Reply Within 24 Hours\n",
      " \n",
      " \n",
      "Any Queries?\n",
      "Submit here.\n",
      "\n",
      "reply within Twentyfour hours\n",
      " \n",
      "Any Queries?\n",
      "Submit here.\n",
      "\n",
      "reply within 24 hours\n"
     ]
    }
   ],
   "source": [
    "#multiline\n",
    "query =  ''' \n",
    "Any Queries?\n",
    "Submit here.\n",
    "\n",
    "reply within 24 hours\n",
    " '''\n",
    "print(query.title())\n",
    "print(query.replace(\"24\" , \"Twentyfour\"))\n",
    "print(query.strip())"
   ]
  },
  {
   "cell_type": "code",
   "execution_count": null,
   "metadata": {},
   "outputs": [],
   "source": []
  }
 ],
 "metadata": {
  "kernelspec": {
   "display_name": "Python 3",
   "language": "python",
   "name": "python3"
  },
  "language_info": {
   "codemirror_mode": {
    "name": "ipython",
    "version": 3
   },
   "file_extension": ".py",
   "mimetype": "text/x-python",
   "name": "python",
   "nbconvert_exporter": "python",
   "pygments_lexer": "ipython3",
   "version": "3.12.0"
  }
 },
 "nbformat": 4,
 "nbformat_minor": 2
}
